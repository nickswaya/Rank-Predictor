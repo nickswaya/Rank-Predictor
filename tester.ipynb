{
    "cells": [
        {
            "cell_type": "code",
            "execution_count": 12,
            "source": [
                "import grequests\n",
                "from helper import *\n",
                "import pandas as pd\n",
                "import asyncio\n",
                "\n",
                "# urls = [\n",
                "#     'https://ballchasing.com/api/replays/02ea08e2-099b-425c-b36b-aa1281177cef',\n",
                "#     'https://ballchasing.com/api/replays/f15214ae-61b1-4550-9054-5a8e084cab8a',\n",
                "#     'https://ballchasing.com/api/replays/c0d12b52-1392-4b7f-8011-fdde4938e04c',\n",
                "#     'https://ballchasing.com/api/replays/83cba74c-7def-43cf-ae0b-efe6bb3ddcbe',\n",
                "#     'https://ballchasing.com/api/replays/b485101f-bc12-410b-b654-e9c6717d675a',\n",
                "#     'https://ballchasing.com/api/replays/f208be86-9be9-45f8-90f5-f356d631e7a7',\n",
                "# ]\n",
                "\n",
                "# rs = (grequests.get(u, headers={'Authorization': 'gMXy4BUhXt0OQhc37kJV5KP0GUyLzhJeZhogpa94'}) for u in urls)\n",
                "\n",
                "# a = grequests.map(rs)"
            ],
            "outputs": [],
            "metadata": {}
        },
        {
            "cell_type": "code",
            "execution_count": 23,
            "source": [
                "\n",
                "\n"
            ],
            "outputs": [
                {
                    "output_type": "error",
                    "ename": "SyntaxError",
                    "evalue": "invalid syntax (<ipython-input-23-c70e5dffa673>, line 2)",
                    "traceback": [
                        "\u001b[0;36m  File \u001b[0;32m\"<ipython-input-23-c70e5dffa673>\"\u001b[0;36m, line \u001b[0;32m2\u001b[0m\n\u001b[0;31m    async sleep(2)\u001b[0m\n\u001b[0m          ^\u001b[0m\n\u001b[0;31mSyntaxError\u001b[0m\u001b[0;31m:\u001b[0m invalid syntax\n"
                    ]
                }
            ],
            "metadata": {}
        },
        {
            "cell_type": "code",
            "execution_count": null,
            "source": [],
            "outputs": [],
            "metadata": {}
        },
        {
            "cell_type": "code",
            "execution_count": null,
            "source": [],
            "outputs": [],
            "metadata": {}
        }
    ],
    "metadata": {
        "orig_nbformat": 4,
        "language_info": {
            "name": "python"
        }
    },
    "nbformat": 4,
    "nbformat_minor": 2
}